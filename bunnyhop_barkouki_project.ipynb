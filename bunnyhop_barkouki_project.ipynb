{
 "cells": [
  {
   "cell_type": "markdown",
   "metadata": {},
   "source": [
    "# MAE 223: Multibody Dynamics: Project"
   ]
  },
  {
   "cell_type": "markdown",
   "metadata": {},
   "source": [
    "### Tammer Barkouki\n",
    "### Fall 2019"
   ]
  },
  {
   "cell_type": "markdown",
   "metadata": {},
   "source": [
    "<a id='toc'></a>\n",
    "## Table of Contents\n",
    "- [Introduction](#introduction)\n",
    "- [Background](#background)\n",
    "- [Approach](#approach)\n",
    "- [Summary of Results](#results)\n",
    "- [References](#references)\n",
    "- [SymPy Model](#sympy)\n",
    " - [Problem Description](#problem)\n",
    " - [Generalized Coordinates](#gc)\n",
    " - [Generalized Speeds](#gs)\n",
    " - [Constants](#con)\n",
    " - [Reference Frames](#ref)\n",
    " - [Points](#pts)\n",
    " - [Linear Velocities](#lvel)\n",
    " - [Angular Velocities](#avel)\n",
    " - [Kinematical Differential Equations](#kdes)\n",
    " - [Loads](#loads)\n",
    " - [Mass and Inertia](#mass)\n",
    " - [Kane's Equations](#kane)\n",
    "- [Simulation](#sim)\n",
    " - [Optimization and Sentivity Analysis](#optimo)\n",
    " - [Plots of Generalized Coordinates and Speeds](#plots)\n",
    "- [Animation](#animation)"
   ]
  },
  {
   "cell_type": "markdown",
   "metadata": {},
   "source": [
    "[_Back to Table of Contents_](#toc)\n",
    "<a id='introduction'></a>\n",
    "# Introduction\n",
    "The system modeled here is a type of small wooden toy with few moving parts that uses its shape and gravity to \"hop\" down an incline. The motion of this toy fits the hopping actions of kangaroos and rabbits where the rear legs move together and the animal shifts its weight forward in order re-position the legs. These toys are simple to DIY and there are several instructional websites and videos available online ([1, 2](#references)). The primary reseach question motivating this work is, based on an understanding of how this passive walking motion occurs, what parameters of the system drive performance, defined here as the fastest achievable stable hop."
   ]
  },
  {
   "cell_type": "markdown",
   "metadata": {},
   "source": [
    "<a id='background'></a>\n",
    "## Background \n",
    "There exists a rich body of research launched by Tad McGeer ([3](#references)) that is motivated by the motion of \"Passive Dynamic Walkers\", the study of which is used in human locomotion and legged-robotics research ([4](#references)). These toys are designed to hop themselves down a slight grade by rocking back and forth, alternating between the front and rear contact points contacting the ground.  This rocking temporarily lifts the legs which swing  forward  when  the  front  contacts  the  ground, afterwhich the body rotates backwards again and while translating forward as it pivots on the leg. The figure below (adapted from Tervino et al ([5](#references))) illustrates the phases of a single hop in ten steps (a through j) for a similar type of toy.  A hop begins with the body rocking, and the rear legs swinging, forward (a−b).  When the body rotates back, the rear legs contacts the ramp (c−d) and the front leg (fixed to the body) is lifted (e−f).  The body, with its CG in front of the rear leg pivot, translates down the incline as it pivots on the rear leg (g).  When it rocks forward again, the front leg is further down the ramp (h) and rocks forward to lift the rear leg off the ramp(i), which swings forward again (j). The star symbol in steps (a), (f), and (j) illustrate when the angle between the body and the swinging leg hits its maximum range of motion, which is a constraint modeled herein."
   ]
  },
  {
   "cell_type": "markdown",
   "metadata": {},
   "source": [
    "<img src=\"images\\walker.png\">"
   ]
  },
  {
   "cell_type": "markdown",
   "metadata": {},
   "source": [
    "[_Back to Table of Contents_](#toc)\n",
    "<a id='approach'></a>\n",
    "## Approach\n",
    "The SymPy library, using Kane's Method, was used to set up and model the dynamic walking toys and to explore how geomtery and mass properties control their performance. Detailed modeling decisions are presented in markdown throughout the [SymPy Model](#sympy) section below. Briefly, the model consists of two rigid bodies for the rabbit's \"body\" and swinging \"leg\". They are connected at the pivot point which is slightly in front of the body's center of mass. The wooden toy has a small dowel that puts a limit in range of motion of the leg, and this was modeled as a contact force that is triggered when the leg is +/- 20 degrees off vertical relative to the body. The effect of the ramp is modeled as a force that is trigged by the location of three points on the rabbit model - two on the body representing the front and rear contact points, and one on the leg, and their heights above the y-axis of the $R$ reference frame, which is rotated $\\gamma$ degrees from the inertial $N$ reference frame. Aside from the contact forces of the small dowel and the ramp, which were modeled following Ackermann and van den Bogert ([6](#references)), the only force acting on the system is the weight.\n",
    "\n",
    "The PyDy, matplotlib, numpy, and pythreejs libraries were then invoked to [simulate](#sim) and [animate](#animate) the results. Values for geometry and mass properties were initially estimated and/or calculated based on the drawings of the toys and then adjusted in order to generate a working model that exhibited a stable hop. A subset of the model \"constants\" were treated as variable parameters and then [optimized](#opt) to produce a model that hopped the furthest distance down the ramp given a fixed amount of time and with a fixed ramp angle. Distance in the simulation translates to speed, which for a passive process can directly measures efficiency since there is no cost, e.g. for fuel. In true brute force fashion, optimization was done by running multiple simulations and slightly adjusting each parameter one at a time, then comparing the final postion on the ramp at the end of the simulation. Since varying the parameters effected the initial motion in unexpected ways, the first 100 time steps are not accounted for in the comparison in order to allow the model to enter into a stable hop. This way the distance comparsion only considers the stable portion of the hopping. The simulation that produced the greated distance for each parameter was stored in an array, and the best simulation was then used to produce the animation.  Finally, a crude 3D .stl file was generated in Autocad using the DIY instructions [1](#references) and used to generate a toy-looking mesh for the [animation](#animation). Some additional dependencies are required to do this (https://pypi.org/project/numpy-stl/)."
   ]
  },
  {
   "cell_type": "markdown",
   "metadata": {},
   "source": [
    "<a id='results'></a>\n",
    "## Summary of Results\n",
    "A successful model was generated that exhibits very similar hopping motion as in the videos that originally motived this effort ([1, 2](#references)). Success was simply seeing that the model settled into a stable hopping motion, without the model stalling, tripping, and with no observable attenuation of the speed after establishing the stable hop. This was verified by examining the [plots](#plots) of the generalized coordinates and generalized speeds. Using the stable configuration as a baselone for optimization, parameters were varied as explained above. As expected, most sensitive parameters are related to geometry, e.g. the body width (in this context \"width\" is the front-to-rear distance), the height of the leg, and the x-offset of the body-leg pivot point to the body's center of gravity. Less sensitive parameters are the mass and moment of inertia of the body and leg, and the y-offset of the pivot. This suggests that once a stable configuration is achieved, the geometry should not be adjusted, or at a minimum should be greatly constrained. Physically, an efficient walker with a given geometry has body mass properties that allow it to rotate at the highest frequency, and a leg that rotates at just the right angluar speed so as to reach as much of its range of motion before landing on the ground. However, since the time when the leg swings and contants the ground is driven by the rotation of the body, this is a non-linear problem and beyond the scope of this project to find the absolute maximum performance.\n",
    "\n",
    "It is convenient that mass properties make forgiving parameters to optimize because they can be easily adjusted in a real physical model, e.g. by iteratively adding small weights (like lead fishing weights) or hollowing the existing wooden model with a dremel, whereas changing the geometry of a wooden model is usually an irreversible process.\n",
    "\n",
    "Although not demonstrated in the simulation below, the acceleration due to gravity was changed to the value for the moon ($1.62 m/s^2$) to explore the change in performance (speed down the ramp). As expected, performance declined, but what is noteworthy is that because passive walking relies on the rotation of both the body and leg, and performance is driven by where the leg is when it contacts the ground, one can see that to maximize performance on the moon, the mass and/or moments of inertia of the leg would be a big driver of efficiency when starting with a model optimized for earth walking."
   ]
  },
  {
   "cell_type": "markdown",
   "metadata": {},
   "source": [
    "[_Back to Table of Contents_](#toc)\n",
    "<a id='references'></a>\n",
    "## References\n",
    "\n",
    "1. wombatmorrison. https://www.instructables.com/id/Designing-Hopping-Animal-and-Comic-Book-Character-/. \"Designing Hopping Animal and Comic Book Character playthings.\" _www.instructables.com_. Instructables, Jul 2, 2011. Accessed Oct 11, 2019.\n",
    "\n",
    "2. wombatmorrison. https://www.youtube.com/watch?v=s1qOY_7xrTs. \"Wood hopping bunny toy.\" Online video clip. _www.youtube.com_. YouTube, Jul 1, 2011. Accessed Oct 9, 2019.\n",
    "\n",
    "3. McGeer, T. https://www.cs.cmu.edu/~hgeyer/Teaching/R16-899B/Papers/McGeer90IJRR.pdf. _Passive Dynamic Walking_. Article. The International Journal of Robotics Research, April 1990.\n",
    "\n",
    "4. Collins, S., et al. https://science.sciencemag.org/content/307/5712/1082. _Efficient Bipedal Robots Based on Passive-Dynamic Walkers._ Article. Science, February 2005.\n",
    "\n",
    "5. Trevino, C.L., J.D. Galloway II, P.A. Bhounsule. http://mechanismsrobotics.asmedigitalcollection.asme.org/article.aspx?articleid=2686558. _A Three-Dimensional Printed, Non-Assembly, Passive Dynamic Walking Toy: Design and Analysis_. Article. Journal of Mechanisms and Robotics, June 2018.\n",
    "\n",
    "6. Ackermann and van den Bogert. _Optimality principles for model-based prediction of human gait._ Article. Journal of Biomechanics, 2010."
   ]
  },
  {
   "cell_type": "code",
   "execution_count": 1,
   "metadata": {},
   "outputs": [],
   "source": [
    "import sympy as sm\n",
    "import sympy.physics.mechanics as me\n",
    "me.init_vprinting()"
   ]
  },
  {
   "cell_type": "markdown",
   "metadata": {},
   "source": [
    "[_Back to Table of Contents_](#toc)\n",
    "<a id='sympy'></a>\n",
    "## SymPy Model\n",
    "<a id='problem'></a>\n",
    "### Problem Description"
   ]
  },
  {
   "cell_type": "markdown",
   "metadata": {},
   "source": [
    "<img src=\"images\\Bunny Diagram.jpg\">"
   ]
  },
  {
   "cell_type": "markdown",
   "metadata": {},
   "source": [
    "#### Generalized Coordinates\n",
    "$q_1, q_2, q_3, q_4$, $n=4$\n",
    "\n",
    "#### Generalized Speeds\n",
    "$u_1, u_2, u_3, u_4$, $p=4$\n",
    "\n",
    "#### Rigid Bodies\n",
    "$B (b_o, m_b, I_{b_o}), L (l_o, m_l, I_{l_o})$\n",
    "\n",
    "#### Loads (forces + torques)\n",
    "- gravitation force on $B$ and $L$\n",
    "- normal force on $B$ at either $C_1$ or $C_2$, and on $L$ at $C_3$\n",
    "- static friction on $B$ at either $C_1$ or $C_2$ and on $L$ at $C_3$\n",
    "- contact force on $B$ and $L$ at $B_d$ and $L_d$ repectively\n",
    " \n",
    "#### Constants\n",
    "- $w_b$ effective \"width\" of the body, measured as distance from $C_1$ to $C_2$ in x-dimension\n",
    "- $h_b$ height of the body\n",
    "- $w_l$ width of the leg\n",
    "- $h_l$ height of the leg\n",
    "- $d_x$ offet in x direction of $P$ from $B_o$\n",
    "- $d_y$ offet in y direction of $P$ from $B_o$\n",
    "- $m_b$ mass of the body\n",
    "- $m_l$ mass of the leg\n",
    "- $I_{B_{bo}}$ moment of inertia of the body along z-axis at $B_o$\n",
    "- $I_{L_{lo}}$ moment of inertia of the leg along z-axis at $L_o$\n",
    "- $g$ acceleration due to gravity\n",
    "- $k_c$ stiffness parameter for calculating contact force\n",
    "- $c_c$ damping parameter for calculating contact force\n",
    "- $\\mu$ coefficient of friction\n",
    "- $v_s$ scaling factor (for calculating Coulomb friction)\n",
    "- $\\gamma$ angle of the inclined ramp\n",
    "- $\\alpha_l$ maximum leg range of motion relative to body (max angle forward or backward)\n",
    "- $r$ half of ramp thickness"
   ]
  },
  {
   "cell_type": "markdown",
   "metadata": {},
   "source": [
    "[_Back to Table of Contents_](#toc)\n",
    "<a id='gc'></a>\n",
    "### Generalized Coordinates"
   ]
  },
  {
   "cell_type": "code",
   "execution_count": 2,
   "metadata": {},
   "outputs": [],
   "source": [
    "q1, q2, q3, q4 = me.dynamicsymbols('q1:5')"
   ]
  },
  {
   "cell_type": "markdown",
   "metadata": {},
   "source": [
    "<a id='gs'></a>\n",
    "### Generalized Speeds"
   ]
  },
  {
   "cell_type": "code",
   "execution_count": 3,
   "metadata": {},
   "outputs": [],
   "source": [
    "u1, u2, u3, u4 = me.dynamicsymbols('u1:5')"
   ]
  },
  {
   "cell_type": "markdown",
   "metadata": {},
   "source": [
    "<a id='con'></a>\n",
    "### Constants"
   ]
  },
  {
   "cell_type": "code",
   "execution_count": 4,
   "metadata": {},
   "outputs": [
    {
     "data": {
      "image/png": "[encoded data removed]",
      "text/latex": [
       "$\\displaystyle \\left( w_{b}, \\  h_{b}, \\  w_{l}, \\  h_{l}, \\  d_{x}, \\  d_{y}, \\  m_{b}, \\  m_{l}, \\  I_{B_{bo}}, \\  I_{L_{lo}}, \\  g, \\  k_{c}, \\  c_{c}, \\  \\mu, \\  v_{s}, \\  \\gamma, \\  \\alpha_{l}, \\  r\\right)$"
      ],
      "text/plain": [
       "(w_b, h_b, wₗ, hₗ, dₓ, d_y, m_b, mₗ, I_{B_{bo}}, I_{L_{lo}}, g, k_c, c_c, μ, v\n",
       "ₛ, γ, αₗ, r)"
      ]
     },
     "execution_count": 4,
     "metadata": {},
     "output_type": "execute_result"
    }
   ],
   "source": [
    "wb, hb, wl, hl, dx, dy, mb, ml, IB_bo, IL_lo, g, kc, cc, mu, vs, gamma, alphal, r = sm.symbols('w_b, h_b, w_l, h_l, d_x, d_y, m_b, m_l, I_{B_{bo}}, I_{L_{lo}}, g, k_c, c_c, mu, v_s, gamma, alpha_l, r')\n",
    "wb, hb, wl, hl, dx, dy, mb, ml, IB_bo, IL_lo, g, kc, cc, mu, vs, gamma, alphal, r"
   ]
  },
  {
   "cell_type": "markdown",
   "metadata": {},
   "source": [
    "<a id='rf'></a>\n",
    "### Reference Frames"
   ]
  },
  {
   "cell_type": "code",
   "execution_count": 5,
   "metadata": {},
   "outputs": [],
   "source": [
    "N = me.ReferenceFrame('N')\n",
    "B = N.orientnew('B', 'Axis', (q3, N.z))         # Body\n",
    "L = N.orientnew('L', 'Axis', (q4, N.z))         # Legs\n",
    "R = N.orientnew('R', 'Axis', (-gamma, N.z))     # Ramp"
   ]
  },
  {
   "cell_type": "markdown",
   "metadata": {},
   "source": [
    "<a id='pts'></a>\n",
    "### Points"
   ]
  },
  {
   "cell_type": "code",
   "execution_count": 6,
   "metadata": {},
   "outputs": [],
   "source": [
    "O = me.Point('O')"
   ]
  },
  {
   "cell_type": "markdown",
   "metadata": {},
   "source": [
    "$P$ is pivot point, fixes $B$ to $L$. Position relative to $N$ frame."
   ]
  },
  {
   "cell_type": "code",
   "execution_count": 7,
   "metadata": {},
   "outputs": [
    {
     "data": {
      "image/png": "[encoded data removed]",
      "text/latex": [
       "$\\displaystyle q_{1}\\mathbf{\\hat{n}_x} + q_{2}\\mathbf{\\hat{n}_y}$"
      ],
      "text/plain": [
       "q₁ n_x + q₂ n_y"
      ]
     },
     "execution_count": 7,
     "metadata": {},
     "output_type": "execute_result"
    }
   ],
   "source": [
    "P =  O.locatenew('P', q1*N.x + q2*N.y)\n",
    "P.pos_from(O)"
   ]
  },
  {
   "cell_type": "markdown",
   "metadata": {},
   "source": [
    "$B_o$ is mass center of the body. Position relative to $P$ in $B$ frame, displaced by $d_x$ and $d_y$."
   ]
  },
  {
   "cell_type": "code",
   "execution_count": 8,
   "metadata": {},
   "outputs": [
    {
     "data": {
      "image/png": "[encoded data removed]",
      "text/latex": [
       "$\\displaystyle d_{x}\\mathbf{\\hat{b}_x} + d_{y}\\mathbf{\\hat{b}_y} + q_{1}\\mathbf{\\hat{n}_x} + q_{2}\\mathbf{\\hat{n}_y}$"
      ],
      "text/plain": [
       "dₓ b_x + d_y b_y + q₁ n_x + q₂ n_y"
      ]
     },
     "execution_count": 8,
     "metadata": {},
     "output_type": "execute_result"
    }
   ],
   "source": [
    "Bo = P.locatenew('B_o', dx*B.x + dy*B.y)\n",
    "Bo.pos_from(O)"
   ]
  },
  {
   "cell_type": "markdown",
   "metadata": {},
   "source": [
    "$L_o$ is mass center of legs rigid body. Positive relative to $L$ frame."
   ]
  },
  {
   "cell_type": "code",
   "execution_count": 9,
   "metadata": {},
   "outputs": [
    {
     "data": {
      "image/png": "[encoded data removed]",
      "text/latex": [
       "$\\displaystyle -  \\frac{h_{l}}{2}\\mathbf{\\hat{l}_y}$"
      ],
      "text/plain": [
       "-hₗ\n",
       "──── l_y\n",
       " 2"
      ]
     },
     "execution_count": 9,
     "metadata": {},
     "output_type": "execute_result"
    }
   ],
   "source": [
    "Lo = P.locatenew('L_o', (-hl/2)*L.y)\n",
    "Lo.pos_from(P)"
   ]
  },
  {
   "cell_type": "markdown",
   "metadata": {},
   "source": [
    "$C_1$ and $C_2$ are locations of body contact points. Positions relative to $B$ frame."
   ]
  },
  {
   "cell_type": "code",
   "execution_count": 10,
   "metadata": {},
   "outputs": [
    {
     "data": {
      "image/png": "[encoded data removed]",
      "text/latex": [
       "$\\displaystyle -  \\frac{w_{b}}{2}\\mathbf{\\hat{b}_x} -  \\frac{h_{b}}{2}\\mathbf{\\hat{b}_y}$"
      ],
      "text/plain": [
       "-w_b        -h_b\n",
       "───── b_x + ───── b_y\n",
       "  2           2"
      ]
     },
     "execution_count": 10,
     "metadata": {},
     "output_type": "execute_result"
    }
   ],
   "source": [
    "C1 = P.locatenew('C_1', (dx-wb/2)*B.x + (dy-hb/2)*B.y)\n",
    "C1.pos_from(Bo)"
   ]
  },
  {
   "cell_type": "code",
   "execution_count": 11,
   "metadata": {},
   "outputs": [
    {
     "data": {
      "image/png": "[encoded data removed]",
      "text/latex": [
       "$\\displaystyle \\frac{w_{b}}{2}\\mathbf{\\hat{b}_x} -  \\frac{h_{b}}{2}\\mathbf{\\hat{b}_y}$"
      ],
      "text/plain": [
       "w_b       -h_b\n",
       "─── b_x + ───── b_y\n",
       " 2          2"
      ]
     },
     "execution_count": 11,
     "metadata": {},
     "output_type": "execute_result"
    }
   ],
   "source": [
    "C2 = P.locatenew('C_1', (dx+wb/2)*B.x + (dy-hb/2)*B.y)\n",
    "C2.pos_from(Bo)"
   ]
  },
  {
   "cell_type": "markdown",
   "metadata": {},
   "source": [
    "$C_3$ is location of legs contact point. Position relative to $L$ frame."
   ]
  },
  {
   "cell_type": "code",
   "execution_count": 12,
   "metadata": {},
   "outputs": [
    {
     "data": {
      "image/png": "[encoded data removed]",
      "text/latex": [
       "$\\displaystyle -  h_{l}\\mathbf{\\hat{l}_y} + q_{1}\\mathbf{\\hat{n}_x} + q_{2}\\mathbf{\\hat{n}_y}$"
      ],
      "text/plain": [
       "-hₗ l_y + q₁ n_x + q₂ n_y"
      ]
     },
     "execution_count": 12,
     "metadata": {},
     "output_type": "execute_result"
    }
   ],
   "source": [
    "C3 = P.locatenew('C_3', (-hl)*L.y)\n",
    "C3.pos_from(O)"
   ]
  },
  {
   "cell_type": "markdown",
   "metadata": {},
   "source": [
    "$L_d$ is the leg dowel that keeps the legs under the body. Roughly 3/4 down the leg."
   ]
  },
  {
   "cell_type": "code",
   "execution_count": 13,
   "metadata": {},
   "outputs": [
    {
     "data": {
      "image/png": "[encoded data removed]",
      "text/latex": [
       "$\\displaystyle -  0.75 h_{l}\\mathbf{\\hat{l}_y}$"
      ],
      "text/plain": [
       "-0.75⋅hₗ l_y"
      ]
     },
     "execution_count": 13,
     "metadata": {},
     "output_type": "execute_result"
    }
   ],
   "source": [
    "Ld = P.locatenew('L_d', (-0.75*hl)*L.y)\n",
    "Ld.pos_from(P)"
   ]
  },
  {
   "cell_type": "code",
   "execution_count": 14,
   "metadata": {},
   "outputs": [
    {
     "data": {
      "image/png": "[encoded data removed]",
      "text/latex": [
       "$\\displaystyle -  0.75 h_{l} \\left(\\operatorname{sin}\\left(q_{3}\\right) \\operatorname{cos}\\left(q_{4}\\right) - \\operatorname{sin}\\left(q_{4}\\right) \\operatorname{cos}\\left(q_{3}\\right)\\right)\\mathbf{\\hat{b}_x} -  0.75 h_{l} \\left(\\operatorname{sin}\\left(q_{3}\\right) \\operatorname{sin}\\left(q_{4}\\right) + \\operatorname{cos}\\left(q_{3}\\right) \\operatorname{cos}\\left(q_{4}\\right)\\right)\\mathbf{\\hat{b}_y}$"
      ],
      "text/plain": [
       "-0.75⋅hₗ⋅(sin(q₃)⋅cos(q₄) - sin(q₄)⋅cos(q₃)) b_x + -0.75⋅hₗ⋅(sin(q₃)⋅sin(q₄) +\n",
       " cos(q₃)⋅cos(q₄)) b_y"
      ]
     },
     "execution_count": 14,
     "metadata": {},
     "output_type": "execute_result"
    }
   ],
   "source": [
    "Bd = P.locatenew('B_d', (Ld.pos_from(P).dot(B.x)*B.x + (Ld.pos_from(P).dot(B.y)*B.y)))\n",
    "Bd.pos_from(P)"
   ]
  },
  {
   "cell_type": "markdown",
   "metadata": {},
   "source": [
    "[_Back to Table of Contents_](#toc)\n",
    "<a id='lvel'></a>\n",
    "### Linear Velocities"
   ]
  },
  {
   "cell_type": "code",
   "execution_count": 15,
   "metadata": {},
   "outputs": [
    {
     "data": {
      "image/png": "[encoded data removed]",
      "text/latex": [
       "$\\displaystyle u_{1}\\mathbf{\\hat{n}_x} + u_{2}\\mathbf{\\hat{n}_y}$"
      ],
      "text/plain": [
       "u₁ n_x + u₂ n_y"
      ]
     },
     "execution_count": 15,
     "metadata": {},
     "output_type": "execute_result"
    }
   ],
   "source": [
    "P.set_vel(N, u1*N.x + u2*N.y)\n",
    "P.vel(N)"
   ]
  },
  {
   "cell_type": "code",
   "execution_count": 16,
   "metadata": {},
   "outputs": [
    {
     "data": {
      "image/png": "[encoded data removed]",
      "text/latex": [
       "$\\displaystyle u_{1}\\mathbf{\\hat{n}_x} + u_{2}\\mathbf{\\hat{n}_y} -  d_{y} \\dot{q}_{3}\\mathbf{\\hat{b}_x} + d_{x} \\dot{q}_{3}\\mathbf{\\hat{b}_y}$"
      ],
      "text/plain": [
       "u₁ n_x + u₂ n_y + -d_y⋅q₃̇ b_x + dₓ⋅q₃̇ b_y"
      ]
     },
     "execution_count": 16,
     "metadata": {},
     "output_type": "execute_result"
    }
   ],
   "source": [
    "Bo.v2pt_theory(P, N, B)"
   ]
  },
  {
   "cell_type": "code",
   "execution_count": 17,
   "metadata": {},
   "outputs": [
    {
     "data": {
      "image/png": "[encoded data removed]",
      "text/latex": [
       "$\\displaystyle u_{1}\\mathbf{\\hat{n}_x} + u_{2}\\mathbf{\\hat{n}_y} + \\frac{h_{l} \\dot{q}_{4}}{2}\\mathbf{\\hat{l}_x}$"
      ],
      "text/plain": [
       "                  hₗ⋅q₄̇\n",
       "u₁ n_x + u₂ n_y + ────── l_x\n",
       "                    2"
      ]
     },
     "execution_count": 17,
     "metadata": {},
     "output_type": "execute_result"
    }
   ],
   "source": [
    "Lo.v2pt_theory(P, N, L)"
   ]
  },
  {
   "cell_type": "code",
   "execution_count": 18,
   "metadata": {},
   "outputs": [
    {
     "data": {
      "image/png": "[encoded data removed]",
      "text/latex": [
       "$\\displaystyle u_{1}\\mathbf{\\hat{n}_x} + u_{2}\\mathbf{\\hat{n}_y} -  \\left(d_{y} - \\frac{h_{b}}{2}\\right) \\dot{q}_{3}\\mathbf{\\hat{b}_x} + \\left(d_{x} - \\frac{w_{b}}{2}\\right) \\dot{q}_{3}\\mathbf{\\hat{b}_y}$"
      ],
      "text/plain": [
       "                   ⎛      h_b⎞           ⎛     w_b⎞\n",
       "u₁ n_x + u₂ n_y + -⎜d_y - ───⎟⋅q₃̇ b_x + ⎜dₓ - ───⎟⋅q₃̇ b_y\n",
       "                   ⎝       2 ⎠           ⎝      2 ⎠"
      ]
     },
     "execution_count": 18,
     "metadata": {},
     "output_type": "execute_result"
    }
   ],
   "source": [
    "C1.v2pt_theory(P, N, B)"
   ]
  },
  {
   "cell_type": "code",
   "execution_count": 19,
   "metadata": {},
   "outputs": [
    {
     "data": {
      "image/png": "[encoded data removed]",
      "text/latex": [
       "$\\displaystyle u_{1}\\mathbf{\\hat{n}_x} + u_{2}\\mathbf{\\hat{n}_y} -  \\left(d_{y} - \\frac{h_{b}}{2}\\right) \\dot{q}_{3}\\mathbf{\\hat{b}_x} + \\left(d_{x} + \\frac{w_{b}}{2}\\right) \\dot{q}_{3}\\mathbf{\\hat{b}_y}$"
      ],
      "text/plain": [
       "                   ⎛      h_b⎞           ⎛     w_b⎞\n",
       "u₁ n_x + u₂ n_y + -⎜d_y - ───⎟⋅q₃̇ b_x + ⎜dₓ + ───⎟⋅q₃̇ b_y\n",
       "                   ⎝       2 ⎠           ⎝      2 ⎠"
      ]
     },
     "execution_count": 19,
     "metadata": {},
     "output_type": "execute_result"
    }
   ],
   "source": [
    "C2.v2pt_theory(P, N, B)"
   ]
  },
  {
   "cell_type": "code",
   "execution_count": 20,
   "metadata": {},
   "outputs": [
    {
     "data": {
      "image/png": "[encoded data removed]",
      "text/latex": [
       "$\\displaystyle u_{1}\\mathbf{\\hat{n}_x} + u_{2}\\mathbf{\\hat{n}_y} + h_{l} \\dot{q}_{4}\\mathbf{\\hat{l}_x}$"
      ],
      "text/plain": [
       "u₁ n_x + u₂ n_y + hₗ⋅q₄̇ l_x"
      ]
     },
     "execution_count": 20,
     "metadata": {},
     "output_type": "execute_result"
    }
   ],
   "source": [
    "C3.v2pt_theory(P, N, L)"
   ]
  },
  {
   "cell_type": "code",
   "execution_count": 21,
   "metadata": {},
   "outputs": [
    {
     "data": {
      "image/png": "[encoded data removed]",
      "text/latex": [
       "$\\displaystyle u_{1}\\mathbf{\\hat{n}_x} + u_{2}\\mathbf{\\hat{n}_y} + 0.75 h_{l} \\dot{q}_{4}\\mathbf{\\hat{l}_x}$"
      ],
      "text/plain": [
       "u₁ n_x + u₂ n_y + 0.75⋅hₗ⋅q₄̇ l_x"
      ]
     },
     "execution_count": 21,
     "metadata": {},
     "output_type": "execute_result"
    }
   ],
   "source": [
    "Ld.v2pt_theory(P, N, L)"
   ]
  },
  {
   "cell_type": "code",
   "execution_count": 22,
   "metadata": {},
   "outputs": [
    {
     "data": {
      "image/png": "[encoded data removed]",
      "text/latex": [
       "$\\displaystyle u_{1}\\mathbf{\\hat{n}_x} + u_{2}\\mathbf{\\hat{n}_y} + 0.75 h_{l} \\left(\\operatorname{sin}\\left(q_{3}\\right) \\operatorname{sin}\\left(q_{4}\\right) + \\operatorname{cos}\\left(q_{3}\\right) \\operatorname{cos}\\left(q_{4}\\right)\\right) \\dot{q}_{3}\\mathbf{\\hat{b}_x} -  0.75 h_{l} \\left(\\operatorname{sin}\\left(q_{3}\\right) \\operatorname{cos}\\left(q_{4}\\right) - \\operatorname{sin}\\left(q_{4}\\right) \\operatorname{cos}\\left(q_{3}\\right)\\right) \\dot{q}_{3}\\mathbf{\\hat{b}_y}$"
      ],
      "text/plain": [
       "u₁ n_x + u₂ n_y + 0.75⋅hₗ⋅(sin(q₃)⋅sin(q₄) + cos(q₃)⋅cos(q₄))⋅q₃̇ b_x + -0.75⋅\n",
       "hₗ⋅(sin(q₃)⋅cos(q₄) - sin(q₄)⋅cos(q₃))⋅q₃̇ b_y"
      ]
     },
     "execution_count": 22,
     "metadata": {},
     "output_type": "execute_result"
    }
   ],
   "source": [
    "Bd.v2pt_theory(P, N, B)"
   ]
  },
  {
   "cell_type": "markdown",
   "metadata": {},
   "source": [
    "<a id='avel'></a>\n",
    "### Angular Velocities"
   ]
  },
  {
   "cell_type": "code",
   "execution_count": 23,
   "metadata": {},
   "outputs": [
    {
     "data": {
      "image/png": "[encoded data removed]",
      "text/latex": [
       "$\\displaystyle -  u_{3}\\mathbf{\\hat{n}_z}$"
      ],
      "text/plain": [
       "-u₃ n_z"
      ]
     },
     "execution_count": 23,
     "metadata": {},
     "output_type": "execute_result"
    }
   ],
   "source": [
    "B.set_ang_vel(N, -u3*N.z)\n",
    "B.ang_vel_in(N)"
   ]
  },
  {
   "cell_type": "code",
   "execution_count": 24,
   "metadata": {},
   "outputs": [
    {
     "data": {
      "image/png": "[encoded data removed]",
      "text/latex": [
       "$\\displaystyle -  u_{4}\\mathbf{\\hat{n}_z}$"
      ],
      "text/plain": [
       "-u₄ n_z"
      ]
     },
     "execution_count": 24,
     "metadata": {},
     "output_type": "execute_result"
    }
   ],
   "source": [
    "L.set_ang_vel(N, -u4*N.z)\n",
    "L.ang_vel_in(N)"
   ]
  },
  {
   "cell_type": "markdown",
   "metadata": {},
   "source": [
    "[_Back to Table of Contents_](#toc)\n",
    "<a id='kdes'></a>\n",
    "### Kinematical Differential Equations"
   ]
  },
  {
   "cell_type": "code",
   "execution_count": 25,
   "metadata": {},
   "outputs": [
    {
     "data": {
      "image/png": "[encoded data removed]",
      "text/latex": [
       "$\\displaystyle \\left[ - u_{1} + \\dot{q}_{1}, \\  - u_{2} + \\dot{q}_{2}, \\  - u_{3} + \\dot{q}_{3}, \\  - u_{4} + \\dot{q}_{4}\\right]$"
      ],
      "text/plain": [
       "[-u₁ + q₁̇, -u₂ + q₂̇, -u₃ + q₃̇, -u₄ + q₄̇]"
      ]
     },
     "execution_count": 25,
     "metadata": {},
     "output_type": "execute_result"
    }
   ],
   "source": [
    "u1_eq = sm.Eq(u1, q1.diff())\n",
    "u2_eq = sm.Eq(u2, q2.diff())\n",
    "u3_eq = sm.Eq(u3, q3.diff())\n",
    "u4_eq = sm.Eq(u4, q4.diff())\n",
    "qdots = sm.solve([u1_eq, u2_eq, u3_eq, u4_eq], q1.diff(), q2.diff(), q3.diff(), q4.diff())\n",
    "kdes = [u1_eq.rhs - u1_eq.lhs,\n",
    "        u2_eq.rhs - u2_eq.lhs,\n",
    "        u3_eq.rhs - u3_eq.lhs,\n",
    "        u4_eq.rhs - u4_eq.lhs]\n",
    "kdes"
   ]
  },
  {
   "cell_type": "code",
   "execution_count": 26,
   "metadata": {},
   "outputs": [
    {
     "data": {
      "image/png": "[encoded data removed]",
      "text/latex": [
       "$\\displaystyle u_{1}\\mathbf{\\hat{n}_x} + u_{2}\\mathbf{\\hat{n}_y} -  d_{y} u_{3}\\mathbf{\\hat{b}_x} + d_{x} u_{3}\\mathbf{\\hat{b}_y}$"
      ],
      "text/plain": [
       "u₁ n_x + u₂ n_y + -d_y⋅u₃ b_x + dₓ⋅u₃ b_y"
      ]
     },
     "execution_count": 26,
     "metadata": {},
     "output_type": "execute_result"
    }
   ],
   "source": [
    "Bo.set_vel(N, Bo.vel(N).subs(qdots).simplify())\n",
    "Bo.vel(N)"
   ]
  },
  {
   "cell_type": "code",
   "execution_count": 27,
   "metadata": {},
   "outputs": [
    {
     "data": {
      "image/png": "[encoded data removed]",
      "text/latex": [
       "$\\displaystyle u_{1}\\mathbf{\\hat{n}_x} + u_{2}\\mathbf{\\hat{n}_y} + \\frac{h_{l} u_{4}}{2}\\mathbf{\\hat{l}_x}$"
      ],
      "text/plain": [
       "                  hₗ⋅u₄\n",
       "u₁ n_x + u₂ n_y + ───── l_x\n",
       "                    2"
      ]
     },
     "execution_count": 27,
     "metadata": {},
     "output_type": "execute_result"
    }
   ],
   "source": [
    "Lo.set_vel(N, Lo.vel(N).subs(qdots).simplify())\n",
    "Lo.vel(N)"
   ]
  },
  {
   "cell_type": "code",
   "execution_count": 28,
   "metadata": {},
   "outputs": [
    {
     "data": {
      "image/png": "[encoded data removed]",
      "text/latex": [
       "$\\displaystyle u_{1}\\mathbf{\\hat{n}_x} + u_{2}\\mathbf{\\hat{n}_y} + \\frac{\\left(- 2 d_{y} + h_{b}\\right) u_{3}}{2}\\mathbf{\\hat{b}_x} + \\frac{\\left(2 d_{x} - w_{b}\\right) u_{3}}{2}\\mathbf{\\hat{b}_y}$"
      ],
      "text/plain": [
       "                  (-2⋅d_y + h_b)⋅u₃       (2⋅dₓ - w_b)⋅u₃\n",
       "u₁ n_x + u₂ n_y + ───────────────── b_x + ─────────────── b_y\n",
       "                          2                      2"
      ]
     },
     "execution_count": 28,
     "metadata": {},
     "output_type": "execute_result"
    }
   ],
   "source": [
    "C1.set_vel(N, C1.vel(N).subs(qdots).simplify())\n",
    "C1.vel(N)"
   ]
  },
  {
   "cell_type": "code",
   "execution_count": 29,
   "metadata": {},
   "outputs": [
    {
     "data": {
      "image/png": "[encoded data removed]",
      "text/latex": [
       "$\\displaystyle u_{1}\\mathbf{\\hat{n}_x} + u_{2}\\mathbf{\\hat{n}_y} + \\frac{\\left(- 2 d_{y} + h_{b}\\right) u_{3}}{2}\\mathbf{\\hat{b}_x} + \\frac{\\left(2 d_{x} + w_{b}\\right) u_{3}}{2}\\mathbf{\\hat{b}_y}$"
      ],
      "text/plain": [
       "                  (-2⋅d_y + h_b)⋅u₃       (2⋅dₓ + w_b)⋅u₃\n",
       "u₁ n_x + u₂ n_y + ───────────────── b_x + ─────────────── b_y\n",
       "                          2                      2"
      ]
     },
     "execution_count": 29,
     "metadata": {},
     "output_type": "execute_result"
    }
   ],
   "source": [
    "C2.set_vel(N, C2.vel(N).subs(qdots).simplify())\n",
    "C2.vel(N)"
   ]
  },
  {
   "cell_type": "code",
   "execution_count": 30,
   "metadata": {},
   "outputs": [
    {
     "data": {
      "image/png": "[encoded data removed]",
      "text/latex": [
       "$\\displaystyle u_{1}\\mathbf{\\hat{n}_x} + u_{2}\\mathbf{\\hat{n}_y} + h_{l} u_{4}\\mathbf{\\hat{l}_x}$"
      ],
      "text/plain": [
       "u₁ n_x + u₂ n_y + hₗ⋅u₄ l_x"
      ]
     },
     "execution_count": 30,
     "metadata": {},
     "output_type": "execute_result"
    }
   ],
   "source": [
    "C3.set_vel(N, C3.vel(N).subs(qdots).simplify())\n",
    "C3.vel(N)"
   ]
  },
  {
   "cell_type": "code",
   "execution_count": 31,
   "metadata": {},
   "outputs": [
    {
     "data": {
      "image/png": "[encoded data removed]",
      "text/latex": [
       "$\\displaystyle u_{1}\\mathbf{\\hat{n}_x} + u_{2}\\mathbf{\\hat{n}_y} + 0.75 h_{l} u_{4}\\mathbf{\\hat{l}_x}$"
      ],
      "text/plain": [
       "u₁ n_x + u₂ n_y + 0.75⋅hₗ⋅u₄ l_x"
      ]
     },
     "execution_count": 31,
     "metadata": {},
     "output_type": "execute_result"
    }
   ],
   "source": [
    "Ld.set_vel(N, Ld.vel(N).subs(qdots).simplify())\n",
    "Ld.vel(N)"
   ]
  },
  {
   "cell_type": "code",
   "execution_count": 32,
   "metadata": {},
   "outputs": [
    {
     "data": {
      "image/png": "[encoded data removed]",
      "text/latex": [
       "$\\displaystyle u_{1}\\mathbf{\\hat{n}_x} + u_{2}\\mathbf{\\hat{n}_y} + 0.75 h_{l} u_{3} \\operatorname{cos}\\left(q_{3} - q_{4}\\right)\\mathbf{\\hat{b}_x} -  0.75 h_{l} u_{3} \\operatorname{sin}\\left(q_{3} - q_{4}\\right)\\mathbf{\\hat{b}_y}$"
      ],
      "text/plain": [
       "u₁ n_x + u₂ n_y + 0.75⋅hₗ⋅u₃⋅cos(q₃ - q₄) b_x + -0.75⋅hₗ⋅u₃⋅sin(q₃ - q₄) b_y"
      ]
     },
     "execution_count": 32,
     "metadata": {},
     "output_type": "execute_result"
    }
   ],
   "source": [
    "Bd.set_vel(N, Bd.vel(N).subs(qdots).simplify())\n",
    "Bd.vel(N)"
   ]
  },
  {
   "cell_type": "markdown",
   "metadata": {},
   "source": [
    "[_Back to Table of Contents_](#toc)\n",
    "<a id='mass'></a>\n",
    "### Mass and Inertia"
   ]
  },
  {
   "cell_type": "code",
   "execution_count": 33,
   "metadata": {},
   "outputs": [
    {
     "data": {
      "image/png": "[encoded data removed]",
      "text/latex": [
       "$\\displaystyle \\left( m_{b}, \\  m_{l}\\right)$"
      ],
      "text/plain": [
       "(m_b, mₗ)"
      ]
     },
     "execution_count": 33,
     "metadata": {},
     "output_type": "execute_result"
    }
   ],
   "source": [
    "mb, ml"
   ]
  },
  {
   "cell_type": "code",
   "execution_count": 34,
   "metadata": {},
   "outputs": [
    {
     "data": {
      "image/png": "[encoded data removed]",
      "text/latex": [
       "$\\displaystyle I_{B_{bo}}\\mathbf{\\hat{b}_z}\\otimes \\mathbf{\\hat{b}_z}$"
      ],
      "text/plain": [
       "I_{B_{bo}} b_z⊗b_z"
      ]
     },
     "execution_count": 34,
     "metadata": {},
     "output_type": "execute_result"
    }
   ],
   "source": [
    "IB = me.inertia(B, 0, 0, IB_bo)\n",
    "IB"
   ]
  },
  {
   "cell_type": "code",
   "execution_count": 35,
   "metadata": {},
   "outputs": [
    {
     "data": {
      "image/png": "[encoded data removed]",
      "text/latex": [
       "$\\displaystyle I_{L_{lo}}\\mathbf{\\hat{l}_z}\\otimes \\mathbf{\\hat{l}_z}$"
      ],
      "text/plain": [
       "I_{L_{lo}} l_z⊗l_z"
      ]
     },
     "execution_count": 35,
     "metadata": {},
     "output_type": "execute_result"
    }
   ],
   "source": [
    "IL = me.inertia(L, 0, 0, IL_lo)\n",
    "IL"
   ]
  },
  {
   "cell_type": "markdown",
   "metadata": {},
   "source": [
    "<a id='loads'></a>\n",
    "### Loads"
   ]
  },
  {
   "cell_type": "markdown",
   "metadata": {},
   "source": [
    "#### Contact Forces"
   ]
  },
  {
   "cell_type": "markdown",
   "metadata": {},
   "source": [
    "$C_1$ is the rear contact point of the body on the ramp, $y_1$ is perpendicular distance from the ramp:"
   ]
  },
  {
   "cell_type": "code",
   "execution_count": 36,
   "metadata": {},
   "outputs": [
    {
     "data": {
      "image/png": "[encoded data removed]",
      "text/latex": [
       "$\\displaystyle - r + \\left(d_{x} - \\frac{w_{b}}{2}\\right) \\left(\\operatorname{sin}\\left(\\gamma\\right) \\operatorname{cos}\\left(q_{3}\\right) + \\operatorname{sin}\\left(q_{3}\\right) \\operatorname{cos}\\left(\\gamma\\right)\\right) + \\left(d_{y} - \\frac{h_{b}}{2}\\right) \\left(- \\operatorname{sin}\\left(\\gamma\\right) \\operatorname{sin}\\left(q_{3}\\right) + \\operatorname{cos}\\left(\\gamma\\right) \\operatorname{cos}\\left(q_{3}\\right)\\right) + q_{1} \\operatorname{sin}\\left(\\gamma\\right) + q_{2} \\operatorname{cos}\\left(\\gamma\\right)$"
      ],
      "text/plain": [
       "     ⎛     w_b⎞                                     ⎛      h_b⎞               \n",
       "-r + ⎜dₓ - ───⎟⋅(sin(γ)⋅cos(q₃) + sin(q₃)⋅cos(γ)) + ⎜d_y - ───⎟⋅(-sin(γ)⋅sin(q\n",
       "     ⎝      2 ⎠                                     ⎝       2 ⎠               \n",
       "\n",
       "                                            \n",
       "₃) + cos(γ)⋅cos(q₃)) + q₁⋅sin(γ) + q₂⋅cos(γ)\n",
       "                                            "
      ]
     },
     "execution_count": 36,
     "metadata": {},
     "output_type": "execute_result"
    }
   ],
   "source": [
    "y1 = C1.pos_from(O).dot(R.y) - r\n",
    "y1"
   ]
  },
  {
   "cell_type": "code",
   "execution_count": 37,
   "metadata": {},
   "outputs": [],
   "source": [
    "penetration1 = (sm.Abs(y1) - y1)/2\n",
    "vertical_force1 = (kc*penetration1**3 - y1)*(1-cc*C1.vel(N).dot(R.y))\n",
    "friction_force1 = -mu*vertical_force1*((2/(1+sm.exp(-C1.vel(N).dot(R.x)/vs))) - 1)\n",
    "contact_force1 = friction_force1*R.x + vertical_force1*R.y"
   ]
  },
  {
   "cell_type": "markdown",
   "metadata": {},
   "source": [
    "$C_2$ is the front contact point of the body on the ramp:"
   ]
  },
  {
   "cell_type": "code",
   "execution_count": 38,
   "metadata": {},
   "outputs": [
    {
     "data": {
      "image/png": "[encoded data removed]",
      "text/latex": [
       "$\\displaystyle - r + \\left(d_{x} + \\frac{w_{b}}{2}\\right) \\left(\\operatorname{sin}\\left(\\gamma\\right) \\operatorname{cos}\\left(q_{3}\\right) + \\operatorname{sin}\\left(q_{3}\\right) \\operatorname{cos}\\left(\\gamma\\right)\\right) + \\left(d_{y} - \\frac{h_{b}}{2}\\right) \\left(- \\operatorname{sin}\\left(\\gamma\\right) \\operatorname{sin}\\left(q_{3}\\right) + \\operatorname{cos}\\left(\\gamma\\right) \\operatorname{cos}\\left(q_{3}\\right)\\right) + q_{1} \\operatorname{sin}\\left(\\gamma\\right) + q_{2} \\operatorname{cos}\\left(\\gamma\\right)$"
      ],
      "text/plain": [
       "     ⎛     w_b⎞                                     ⎛      h_b⎞               \n",
       "-r + ⎜dₓ + ───⎟⋅(sin(γ)⋅cos(q₃) + sin(q₃)⋅cos(γ)) + ⎜d_y - ───⎟⋅(-sin(γ)⋅sin(q\n",
       "     ⎝      2 ⎠                                     ⎝       2 ⎠               \n",
       "\n",
       "                                            \n",
       "₃) + cos(γ)⋅cos(q₃)) + q₁⋅sin(γ) + q₂⋅cos(γ)\n",
       "                                            "
      ]
     },
     "execution_count": 38,
     "metadata": {},
     "output_type": "execute_result"
    }
   ],
   "source": [
    "y2 = C2.pos_from(O).dot(R.y) - r\n",
    "y2"
   ]
  },
  {
   "cell_type": "code",
   "execution_count": 39,
   "metadata": {},
   "outputs": [],
   "source": [
    "penetration2 = (sm.Abs(y2) - y2)/2\n",
    "vertical_force2 = (kc*penetration2**3 - y2)*(1-cc*C2.vel(N).dot(R.y))\n",
    "friction_force2 = -mu*vertical_force2*((2/(1+sm.exp(-C2.vel(N).dot(R.x)/vs))) - 1)\n",
    "contact_force2 = friction_force2*R.x + vertical_force2*R.y"
   ]
  },
  {
   "cell_type": "markdown",
   "metadata": {},
   "source": [
    "$C_3$ is the legs' contact point with the ramp:"
   ]
  },
  {
   "cell_type": "code",
   "execution_count": 40,
   "metadata": {},
   "outputs": [
    {
     "data": {
      "image/png": "[encoded data removed]",
      "text/latex": [
       "$\\displaystyle - h_{l} \\left(- \\operatorname{sin}\\left(\\gamma\\right) \\operatorname{sin}\\left(q_{4}\\right) + \\operatorname{cos}\\left(\\gamma\\right) \\operatorname{cos}\\left(q_{4}\\right)\\right) - r + q_{1} \\operatorname{sin}\\left(\\gamma\\right) + q_{2} \\operatorname{cos}\\left(\\gamma\\right)$"
      ],
      "text/plain": [
       "-hₗ⋅(-sin(γ)⋅sin(q₄) + cos(γ)⋅cos(q₄)) - r + q₁⋅sin(γ) + q₂⋅cos(γ)"
      ]
     },
     "execution_count": 40,
     "metadata": {},
     "output_type": "execute_result"
    }
   ],
   "source": [
    "y3 = C3.pos_from(O).dot(R.y) - r\n",
    "y3"
   ]
  },
  {
   "cell_type": "code",
   "execution_count": 41,
   "metadata": {},
   "outputs": [],
   "source": [
    "penetration3 = (sm.Abs(y3) - y3)/2\n",
    "vertical_force3 = (kc*penetration3**3 - y3)*(1-cc*C3.vel(N).dot(R.y))\n",
    "friction_force3 = -mu*vertical_force3*((2/(1+sm.exp(-C3.vel(N).dot(R.x)/vs))) - 1)\n",
    "contact_force3 = friction_force3*R.x + vertical_force3*R.y"
   ]
  },
  {
   "cell_type": "markdown",
   "metadata": {},
   "source": [
    "$L_d$ is the legs' dowel, which keeps the legs under the body (collision based on difference in angle between legs and body):"
   ]
  },
  {
   "cell_type": "code",
   "execution_count": 42,
   "metadata": {},
   "outputs": [],
   "source": [
    "leg_angle = sm.Abs(q4 - q3)\n",
    "leg_rate = sm.Abs(u4 - u3)"
   ]
  },
  {
   "cell_type": "code",
   "execution_count": 43,
   "metadata": {},
   "outputs": [],
   "source": [
    "swing_penetration = sm.sign(q4-q3)*(sm.Abs(alphal - leg_angle) - ((alphal) - leg_angle))/2"
   ]
  },
  {
   "cell_type": "code",
   "execution_count": 44,
   "metadata": {},
   "outputs": [],
   "source": [
    "contact_force_dowel_on_leg = -(100)*((swing_penetration)**3)*(1 - sm.sign(q4-q3)*2.0*cc*L.ang_vel_in(N).dot(N.z))*L.x\n",
    "contact_force_dowel_on_body = - contact_force_dowel_on_leg"
   ]
  },
  {
   "cell_type": "markdown",
   "metadata": {},
   "source": [
    "#### Gravitational Forces"
   ]
  },
  {
   "cell_type": "code",
   "execution_count": 45,
   "metadata": {},
   "outputs": [
    {
     "data": {
      "image/png": "[encoded data removed]",
      "text/latex": [
       "$\\displaystyle -  g m_{b}\\mathbf{\\hat{n}_y}$"
      ],
      "text/plain": [
       "-g⋅m_b n_y"
      ]
     },
     "execution_count": 45,
     "metadata": {},
     "output_type": "execute_result"
    }
   ],
   "source": [
    "RBo = -(mb*g)*N.y\n",
    "RBo"
   ]
  },
  {
   "cell_type": "code",
   "execution_count": 46,
   "metadata": {},
   "outputs": [
    {
     "data": {
      "image/png": "[encoded data removed]",
      "text/latex": [
       "$\\displaystyle -  g m_{l}\\mathbf{\\hat{n}_y}$"
      ],
      "text/plain": [
       "-g⋅mₗ n_y"
      ]
     },
     "execution_count": 46,
     "metadata": {},
     "output_type": "execute_result"
    }
   ],
   "source": [
    "RLo = -(ml*g)*N.y\n",
    "RLo"
   ]
  },
  {
   "cell_type": "markdown",
   "metadata": {},
   "source": [
    "[_Back to Table of Contents_](#toc)\n",
    "<a id='kane'></a>\n",
    "### Kane's Equations"
   ]
  },
  {
   "cell_type": "code",
   "execution_count": 47,
   "metadata": {},
   "outputs": [
    {
     "data": {
      "image/png": "[encoded data removed]",
      "text/latex": [
       "$\\displaystyle \\left[ - u_{1} + \\dot{q}_{1}, \\  - u_{2} + \\dot{q}_{2}, \\  - u_{3} + \\dot{q}_{3}, \\  - u_{4} + \\dot{q}_{4}\\right]$"
      ],
      "text/plain": [
       "[-u₁ + q₁̇, -u₂ + q₂̇, -u₃ + q₃̇, -u₄ + q₄̇]"
      ]
     },
     "execution_count": 47,
     "metadata": {},
     "output_type": "execute_result"
    }
   ],
   "source": [
    "kdes"
   ]
  },
  {
   "cell_type": "code",
   "execution_count": 48,
   "metadata": {},
   "outputs": [],
   "source": [
    "body = me.RigidBody('body', Bo, B, mb, (IB, Bo))"
   ]
  },
  {
   "cell_type": "code",
   "execution_count": 49,
   "metadata": {},
   "outputs": [],
   "source": [
    "legs = me.RigidBody('legs', Lo, L, ml, (IL, Lo))"
   ]
  },
  {
   "cell_type": "code",
   "execution_count": 50,
   "metadata": {},
   "outputs": [],
   "source": [
    "bodies = [body, legs]\n",
    "\n",
    "loads = [(Bo, RBo),\n",
    "         (Lo, RLo),\n",
    "         (C1, contact_force1),\n",
    "         (C2, contact_force2),\n",
    "         (C3, contact_force3),\n",
    "         (Ld, contact_force_dowel_on_leg),\n",
    "         (Bd, contact_force_dowel_on_body)]"
   ]
  },
  {
   "cell_type": "code",
   "execution_count": 51,
   "metadata": {},
   "outputs": [],
   "source": [
    "kane = me.KanesMethod(N, (q1, q2, q3, q4), (u1, u2, u3, u4), kd_eqs=kdes)\n",
    "fr, frstar = kane.kanes_equations(bodies, loads=loads)"
   ]
  },
  {
   "cell_type": "markdown",
   "metadata": {},
   "source": [
    "[_Back to Table of Contents_](#toc)\n",
    "<a id='sim'></a>\n",
    "## Simulation"
   ]
  },
  {
   "cell_type": "code",
   "execution_count": 52,
   "metadata": {},
   "outputs": [],
   "source": [
    "from pydy.system import System\n",
    "import numpy as np\n",
    "import matplotlib.pyplot as plt\n",
    "\n",
    "sys = System(kane)\n",
    "\n",
    "# Method to setup and run the .integrate() function, returns the x array\n",
    "def simulation(constants):\n",
    "    sys.constants = {wb: constants[0],\n",
    "                     hb: 0.05,\n",
    "                     hl: constants[1],\n",
    "                     dx: constants[2],\n",
    "                     dy: constants[3],\n",
    "                     mb: constants[4],\n",
    "                     ml: constants[5],\n",
    "                     IB_bo: constants[6],\n",
    "                     IL_lo: constants[7],\n",
    "                     g: constants[8],\n",
    "                     kc: 5.0e9,\n",
    "                     cc: 0.9,\n",
    "                     mu: 1.0,\n",
    "                     vs: 0.005,\n",
    "                     gamma: 0.40,\n",
    "                     alphal: 0.25,\n",
    "                     r: 0.125}\n",
    "    \n",
    "    sys.times = np.linspace(0.0, 20.0, num=500)\n",
    "    sys.initial_conditions = {q1: 0.0,\n",
    "                              q2: 0.1675,\n",
    "                              q3: -0.35,\n",
    "                              q4: -0.1,\n",
    "                              u1: 0.0,\n",
    "                              u2: 0.0,\n",
    "                              u3: 0.0,\n",
    "                              u4: 0.0}\n",
    "    x = sys.integrate()\n",
    "    return x"
   ]
  },
  {
   "cell_type": "markdown",
   "metadata": {},
   "source": [
    "<a id='optimo'></a>\n",
    "### Optimization and Sensitivity Analysis"
   ]
  },
  {
   "cell_type": "markdown",
   "metadata": {},
   "source": [
    "#### Helper Functions"
   ]
  },
  {
   "cell_type": "code",
   "execution_count": 53,
   "metadata": {},
   "outputs": [],
   "source": [
    "# runs array used to store tuples of the results of simulations and the distances they achieved\n",
    "runs = []\n",
    "\n",
    "# Method to return the simulation with the max distance\n",
    "def get_max(runs):\n",
    "    max_dist = 0\n",
    "    max_X = []\n",
    "    for run in runs:\n",
    "        if run[0] > max_dist:\n",
    "            max_dist = run[0]\n",
    "            max_X = run[1]\n",
    "    return max_X\n",
    "\n",
    "# Method to compare two x arrays, ommitting the first 100 time steps,\n",
    "# and returning the distance the model achieved down the ramp\n",
    "def distance(X):\n",
    "    start = np.sqrt(X[99][0]*X[99][0] + X[99][1]*X[99][1])\n",
    "    end = np.sqrt(X[499][0]*X[499][0] + X[499][1]*X[499][1])\n",
    "    return end - start"
   ]
  },
  {
   "cell_type": "code",
   "execution_count": 54,
   "metadata": {},
   "outputs": [],
   "source": [
    "# Method to simulate() and distance() methods,\n",
    "# prints the distnace achieved in each simulation\n",
    "# and returns the index and the x array of the best run.\n",
    "# Parameters: index is the index of the \"constant\" array,\n",
    "# ie. this is the parameter were optimizing\n",
    "# arr is the array of values to run on this parameter.\n",
    "def optimize(index, arr):\n",
    "    const = [0.07, 0.03, -0.005, 0.0, 0.1, 0.08, 0.0075, 0.0007, 9.81]\n",
    "    results_arr = []\n",
    "    x_arr = []\n",
    "    for value in arr:\n",
    "        const[index] = value\n",
    "        x = simulation(const)\n",
    "        x_arr.append(x)\n",
    "        dist = distance(x)\n",
    "        print(dist)\n",
    "        results_arr.append(dist)\n",
    "        \n",
    "    dist = np.amax(results_arr)\n",
    "    best_ind = np.argmax(results_arr)\n",
    "    print(best_ind)\n",
    "    best_x = x_arr[best_ind]\n",
    "        \n",
    "    return dist, best_x"
   ]
  },
  {
   "cell_type": "markdown",
   "metadata": {},
   "source": [
    "#### Optimizations on different parameters\n",
    "\n",
    "To keep the execution time of this notebook reasonable, only the optimization of the first parameters is active. The other cells below are set to \"raw\". Feel free to make them \"code\" cells to run optimization on other parameters."
   ]
  },
  {
   "cell_type": "code",
   "execution_count": 55,
   "metadata": {},
   "outputs": [
    {
     "name": "stdout",
     "output_type": "stream",
     "text": [
      "0.31091339220858344\n",
      "0\n"
     ]
    },
    {
     "data": {
      "image/png": "[encoded data removed]",
      "text/latex": [
       "$\\displaystyle 0.31091339220858344$"
      ],
      "text/plain": [
       "0.31091339220858344"
      ]
     },
     "execution_count": 55,
     "metadata": {},
     "output_type": "execute_result"
    }
   ],
   "source": [
    "ind = 0 # wb, width of the body\n",
    "#arr = [0.065, 0.07, 0.075]\n",
    "arr = [0.07]\n",
    "\n",
    "best, x = optimize(ind, arr)\n",
    "run = (best, x)\n",
    "runs.append(run)\n",
    "best"
   ]
  },
  {
   "cell_type": "markdown",
   "metadata": {},
   "source": [
    "ind = 2 # hl, height of the leg\n",
    "arr = [-0.005, -0.004, -0.003]\n",
    "best, x = optimize(ind, arr)\n",
    "run = (best, x)\n",
    "runs.append(run)\n",
    "best"
   ]
  },
  {
   "cell_type": "markdown",
   "metadata": {},
   "source": [
    "ind = 3 # dx, x-offset of pivot\n",
    "arr = [-0.001, 0.0, 0.001]\n",
    "best, x = optimize(ind, arr)\n",
    "run = (best, x)\n",
    "runs.append(run)\n",
    "best"
   ]
  },
  {
   "cell_type": "markdown",
   "metadata": {},
   "source": [
    "ind = 4 # dy, y-offset of pivot\n",
    "arr = [0.25, 0.26, 0.27]\n",
    "best, x = optimize(ind, arr)\n",
    "run = (best, x)\n",
    "runs.append(run)\n",
    "best"
   ]
  },
  {
   "cell_type": "markdown",
   "metadata": {},
   "source": [
    "ind = 5 # ml, mass of the leg\n",
    "arr = [0.09, 0.1, 0.11]\n",
    "best, x = optimize(ind, arr)\n",
    "run = (best, x)\n",
    "runs.append(run)\n",
    "best"
   ]
  },
  {
   "cell_type": "markdown",
   "metadata": {},
   "source": [
    "ind = 6 # IB_bo, mom of inertia of the body\n",
    "arr = [0.0065, 0.007, 0.0075]\n",
    "best, x = optimize(ind, arr)\n",
    "run = (best, x)\n",
    "runs.append(run)\n",
    "best"
   ]
  },
  {
   "cell_type": "markdown",
   "metadata": {},
   "source": [
    "ind = 7 # IL_lo, mom of inertia of the leg\n",
    "arr = [0.0006, 0.0007, 0.0008]\n",
    "best, x = optimize(ind, arr)\n",
    "run = (best, x)\n",
    "runs.append(run)\n",
    "best"
   ]
  },
  {
   "cell_type": "code",
   "execution_count": 56,
   "metadata": {},
   "outputs": [],
   "source": [
    "x = get_max(runs)"
   ]
  },
  {
   "cell_type": "markdown",
   "metadata": {},
   "source": [
    "[_Back to Table of Contents_](#toc)\n",
    "<a id='plots'></a>\n",
    "### Plots of Generalized Coordinates and Speeds"
   ]
  },
  {
   "cell_type": "code",
   "execution_count": 57,
   "metadata": {},
   "outputs": [
    {
     "data": {
      "image/png": "[encoded data removed]",
      "text/plain": [
       "<Figure size 432x288 with 1 Axes>"
      ]
     },
     "metadata": {
      "needs_background": "light"
     },
     "output_type": "display_data"
    }
   ],
   "source": [
    "axes = plt.plot(sys.times, x)"
   ]
  },
  {
   "cell_type": "code",
   "execution_count": 58,
   "metadata": {},
   "outputs": [
    {
     "data": {
      "text/plain": [
       "Text(0, 0.5, 'Angle [deg]')"
      ]
     },
     "execution_count": 58,
     "metadata": {},
     "output_type": "execute_result"
    },
    {
     "data": {
      "image/png": "[encoded data removed]",
      "text/plain": [
       "<Figure size 432x288 with 2 Axes>"
      ]
     },
     "metadata": {
      "needs_background": "light"
     },
     "output_type": "display_data"
    }
   ],
   "source": [
    "fig, axes = plt.subplots(2, 1, sharex=True)\n",
    "axes[0].plot(sys.times, np.rad2deg(x[:, (0,1)]))\n",
    "axes[0].legend([sm.latex(q, mode='inline') for q in (q1, q2)])\n",
    "axes[0].set_ylabel('Distance [m]')\n",
    "axes[1].plot(sys.times, np.rad2deg(x[:, 2:4]))\n",
    "axes[1].legend([sm.latex(q, mode='inline') for q in (q3, q4)])\n",
    "axes[1].set_xlabel('Time [s]')\n",
    "axes[1].set_ylabel('Angle [deg]')"
   ]
  },
  {
   "cell_type": "code",
   "execution_count": 59,
   "metadata": {},
   "outputs": [
    {
     "data": {
      "text/plain": [
       "Text(0, 0.5, 'Angular Velocity [deg/s]')"
      ]
     },
     "execution_count": 59,
     "metadata": {},
     "output_type": "execute_result"
    },
    {
     "data": {
      "image/png": "[encoded data removed]",
      "text/plain": [
       "<Figure size 432x288 with 2 Axes>"
      ]
     },
     "metadata": {
      "needs_background": "light"
     },
     "output_type": "display_data"
    }
   ],
   "source": [
    "fig, axes = plt.subplots(2, 1, sharex=True)\n",
    "axes[0].plot(sys.times, np.rad2deg(x[:, (4,5)]))\n",
    "axes[0].legend([sm.latex(q, mode='inline') for q in (u1, u2)])\n",
    "axes[0].set_ylabel('Velocity [m/s]')\n",
    "axes[1].plot(sys.times, np.rad2deg(x[:, 6:8]))\n",
    "axes[1].legend([sm.latex(q, mode='inline') for q in (u3, u4)])\n",
    "axes[1].set_xlabel('Time [s]')\n",
    "axes[1].set_ylabel('Angular Velocity [deg/s]')"
   ]
  },
  {
   "cell_type": "markdown",
   "metadata": {},
   "source": [
    "[_Back to Table of Contents_](#toc)\n",
    "<a id='animation'></a>\n",
    "## Animation"
   ]
  },
  {
   "cell_type": "code",
   "execution_count": 60,
   "metadata": {},
   "outputs": [],
   "source": [
    "from pydy.viz.shapes import Cube, Cylinder, Sphere, Plane\n",
    "from pydy.viz.visualization_frame import VisualizationFrame\n",
    "from pydy.viz import Scene\n",
    "import pythreejs as pjs\n",
    "from stl import mesh"
   ]
  },
  {
   "cell_type": "markdown",
   "metadata": {},
   "source": [
    "Define PyDy shapes for the body and legs"
   ]
  },
  {
   "cell_type": "code",
   "execution_count": 61,
   "metadata": {},
   "outputs": [],
   "source": [
    "body_shape = Plane(0, 0, color='red')\n",
    "legs_shape = Plane(0, 0, color='blue')\n",
    "ramp_shape = Plane(2*r, 10*r, color='green')"
   ]
  },
  {
   "cell_type": "markdown",
   "metadata": {},
   "source": [
    "Create visualization frames that attach a shape to a reference frame and point."
   ]
  },
  {
   "cell_type": "code",
   "execution_count": 62,
   "metadata": {},
   "outputs": [],
   "source": [
    "v1 = VisualizationFrame('body', B, Bo.locatenew('Bc', -(hb/2)*B.y - (wb/2)*B.x), body_shape)\n",
    "v2 = VisualizationFrame('legs', L, Lo.locatenew('Lc', -(hl/2)*L.y - (0.01*L.x)), legs_shape)\n",
    "v3 = VisualizationFrame('ramp', R, O, ramp_shape)"
   ]
  },
  {
   "cell_type": "markdown",
   "metadata": {},
   "source": [
    "Create a scene with the origin point O and base reference frame N, then setup the scene with `create_static_html()`."
   ]
  },
  {
   "cell_type": "code",
   "execution_count": 63,
   "metadata": {},
   "outputs": [],
   "source": [
    "scene = Scene(N, O, v1, v2, v3, system=sys)\n",
    "scene.create_static_html(overwrite=True, silent=True)"
   ]
  },
  {
   "cell_type": "code",
   "execution_count": 64,
   "metadata": {},
   "outputs": [],
   "source": [
    "# Note, you may need to run \"pip install numpy-stl\" to get the stl import to work\n",
    "# https://pypi.org/project/numpy-stl/\n",
    "\n",
    "body_mesh = mesh.Mesh.from_file('stl_files/bunny_body.stl')\n",
    "body_vertices = pjs.BufferAttribute(array=body_mesh.vectors, normalized=False)\n",
    "body_geometry = pjs.BufferGeometry(attributes={'position': body_vertices}, )\n",
    "my_mesh = pjs.Mesh(body_geometry, pjs.MeshStandardMaterial(color='brown'),\n",
    "    name='body')\n",
    "\n",
    "legs_mesh = mesh.Mesh.from_file('stl_files/bunny_leg.stl')\n",
    "legs_vertices = pjs.BufferAttribute(array=legs_mesh.vectors, normalized=False)\n",
    "legs_geometry = pjs.BufferGeometry(attributes={'position': legs_vertices}, )\n",
    "my_legs_mesh = pjs.Mesh(legs_geometry, pjs.MeshStandardMaterial(color='yellow'),\n",
    "    name='legs')\n",
    "\n",
    "ramp_mesh = pjs.Mesh(\n",
    "    pjs.BoxBufferGeometry(height=.25, width=1.27, depth=0.1),\n",
    "    pjs.MeshStandardMaterial(color='green'),\n",
    "    name='ramp'\n",
    ")"
   ]
  },
  {
   "cell_type": "code",
   "execution_count": 65,
   "metadata": {},
   "outputs": [
    {
     "name": "stdout",
     "output_type": "stream",
     "text": [
      "Volume                                  = 1.4713407344110231e-05\n",
      "Position of the center of gravity (COG) = [0.04448651 0.03083386 0.002501  ]\n",
      "Inertia matrix at expressed at the COG  = [ 2.12406774e-09 -5.81879569e-10 -5.79128420e-17]\n",
      "                                          [-5.81879569e-10  7.54738484e-09 -3.98858861e-18]\n",
      "                                          [-5.79128420e-17 -3.98858861e-18  9.61014670e-09]\n"
     ]
    }
   ],
   "source": [
    "volume, cog, inertia = body_mesh.get_mass_properties()\n",
    "print(\"Volume                                  = {0}\".format(volume))\n",
    "print(\"Position of the center of gravity (COG) = {0}\".format(cog))\n",
    "print(\"Inertia matrix at expressed at the COG  = {0}\".format(inertia[0,:]))\n",
    "print(\"                                          {0}\".format(inertia[1,:]))\n",
    "print(\"                                          {0}\".format(inertia[2,:]))"
   ]
  },
  {
   "cell_type": "markdown",
   "metadata": {},
   "source": [
    "Use the transformation matrices over time to define animation tracks for the meshes."
   ]
  },
  {
   "cell_type": "code",
   "execution_count": 66,
   "metadata": {},
   "outputs": [],
   "source": [
    "body_matrices = v1.evaluate_transformation_matrix(x, list(sys.constants.values()))\n",
    "legs_matrices = v2.evaluate_transformation_matrix(x, list(sys.constants.values()))\n",
    "ramp_matrices = v3.evaluate_transformation_matrix(x, list(sys.constants.values()))\n",
    "\n",
    "body_track = pjs.VectorKeyframeTrack(\n",
    "    name='scene/body.matrix',\n",
    "    times=list(sys.times),\n",
    "    values=body_matrices)\n",
    "\n",
    "legs_track = pjs.VectorKeyframeTrack(\n",
    "    name='scene/legs.matrix',\n",
    "    times=list(sys.times),\n",
    "    values=legs_matrices)\n",
    "\n",
    "ramp_track = pjs.VectorKeyframeTrack(\n",
    "    name='scene/ramp.matrix',\n",
    "    times=list(sys.times),\n",
    "    values=ramp_matrices)"
   ]
  },
  {
   "cell_type": "markdown",
   "metadata": {},
   "source": [
    "`matrixAutoUpdate` should be set to false so that we can directly manipulate the transformation matrices."
   ]
  },
  {
   "cell_type": "code",
   "execution_count": 67,
   "metadata": {},
   "outputs": [],
   "source": [
    "my_mesh.matrixAutoUpdate = False\n",
    "my_legs_mesh.matrixAutoUpdate = False\n",
    "ramp_mesh.matrixAutoUpdate = False"
   ]
  },
  {
   "cell_type": "markdown",
   "metadata": {},
   "source": [
    "Set the initial orientation and position of the objects in the scene."
   ]
  },
  {
   "cell_type": "code",
   "execution_count": 68,
   "metadata": {},
   "outputs": [],
   "source": [
    "my_mesh.matrix = body_matrices[0]\n",
    "my_legs_mesh.matrix = legs_matrices[0]\n",
    "ramp_mesh.matrix = ramp_matrices[0]"
   ]
  },
  {
   "cell_type": "code",
   "execution_count": 69,
   "metadata": {},
   "outputs": [
    {
     "data": {
      "image/png": "[encoded data removed]",
      "text/latex": [
       "$\\displaystyle \\left[ 0.9393727128473789, \\  -0.34289780745545134, \\  0.0, \\  0.0, \\  0.34289780745545134, \\  0.9393727128473789, \\  0.0, \\  0.0, \\  0.0, \\  0.0, \\  1.0, \\  0.0, \\  -0.046147353700281446, \\  0.1577315944770336, \\  0.0, \\  1.0\\right]$"
      ],
      "text/plain": [
       "[0.9393727128473789, -0.34289780745545134, 0.0, 0.0, 0.34289780745545134, 0.93\n",
       "93727128473789, 0.0, 0.0, 0.0, 0.0, 1.0, 0.0, -0.046147353700281446, 0.1577315\n",
       "944770336, 0.0, 1.0]"
      ]
     },
     "execution_count": 69,
     "metadata": {},
     "output_type": "execute_result"
    }
   ],
   "source": [
    "body_matrices[0]"
   ]
  },
  {
   "cell_type": "markdown",
   "metadata": {},
   "source": [
    "Create some axes indicators."
   ]
  },
  {
   "cell_type": "code",
   "execution_count": 70,
   "metadata": {},
   "outputs": [],
   "source": [
    "x_arrow = pjs.ArrowHelper(dir=[1, 0, 0], length=1.0, color='blue')\n",
    "y_arrow = pjs.ArrowHelper(dir=[0, 1, 0], length=1.0, color='red')\n",
    "z_arrow = pjs.ArrowHelper(dir=[0, 0, 1], length=1.0,color='green')"
   ]
  },
  {
   "cell_type": "markdown",
   "metadata": {},
   "source": [
    "Setup the scene."
   ]
  },
  {
   "cell_type": "code",
   "execution_count": 71,
   "metadata": {},
   "outputs": [],
   "source": [
    "view_width = 800\n",
    "view_height = 600\n",
    "\n",
    "camera = pjs.PerspectiveCamera(position=[.5, 0.5, 0.5],\n",
    "                               aspect=view_width/view_height)\n",
    "key_light = pjs.DirectionalLight(position=[0, 1, 1])\n",
    "ambient_light = pjs.AmbientLight()\n",
    "\n",
    "scene_pjs = pjs.Scene(children=[my_mesh, my_legs_mesh, ramp_mesh,\n",
    "                                x_arrow, y_arrow, z_arrow, \n",
    "                                camera, key_light, ambient_light])\n",
    "\n",
    "controller = pjs.OrbitControls(controlling=camera)\n",
    "renderer = pjs.Renderer(camera=camera, scene=scene_pjs, controls=[controller], width=view_width, height=view_height)"
   ]
  },
  {
   "cell_type": "markdown",
   "metadata": {},
   "source": [
    "Show the scene:"
   ]
  },
  {
   "cell_type": "code",
   "execution_count": 72,
   "metadata": {},
   "outputs": [
    {
     "data": {
      "application/vnd.jupyter.widget-view+json": {
       "model_id": "b053ddf0181c41a0a7a810ac22431e34",
       "version_major": 2,
       "version_minor": 0
      },
      "text/plain": [
       "Renderer(camera=PerspectiveCamera(aspect=1.3333333333333333, position=(0.5, 0.5, 0.5), quaternion=(0.0, 0.0, 0…"
      ]
     },
     "metadata": {},
     "output_type": "display_data"
    }
   ],
   "source": [
    "renderer"
   ]
  },
  {
   "cell_type": "markdown",
   "metadata": {},
   "source": [
    "Setup and show the animation controls:"
   ]
  },
  {
   "cell_type": "code",
   "execution_count": 73,
   "metadata": {},
   "outputs": [
    {
     "data": {
      "application/vnd.jupyter.widget-view+json": {
       "model_id": "b1b18f3f4367419b86026dc1d9413507",
       "version_major": 2,
       "version_minor": 0
      },
      "text/plain": [
       "AnimationAction(clip=AnimationClip(duration=20.0, tracks=(VectorKeyframeTrack(name='scene/body.matrix', times=…"
      ]
     },
     "metadata": {},
     "output_type": "display_data"
    }
   ],
   "source": [
    "clip = pjs.AnimationClip(tracks=[body_track, legs_track], duration=sys.times[-1])\n",
    "action = pjs.AnimationAction(pjs.AnimationMixer(scene_pjs), clip, scene_pjs)\n",
    "action"
   ]
  },
  {
   "cell_type": "markdown",
   "metadata": {},
   "source": [
    "[_Back to Table of Contents_](#toc)"
   ]
  },
  {
   "cell_type": "code",
   "execution_count": null,
   "metadata": {},
   "outputs": [],
   "source": []
  }
 ],
 "metadata": {
  "kernelspec": {
   "display_name": "Python 3",
   "language": "python",
   "name": "python3"
  },
  "language_info": {
   "codemirror_mode": {
    "name": "ipython",
    "version": 3
   },
   "file_extension": ".py",
   "mimetype": "text/x-python",
   "name": "python",
   "nbconvert_exporter": "python",
   "pygments_lexer": "ipython3",
   "version": "3.7.3"
  }
 },
 "nbformat": 4,
 "nbformat_minor": 4
}
